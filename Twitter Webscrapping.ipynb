{
 "cells": [
  {
   "cell_type": "code",
   "execution_count": null,
   "id": "3ab295f8",
   "metadata": {},
   "outputs": [],
   "source": [
    "import snscrape.modules.twitter as sntwitter\n",
    "import pandas as pd"
   ]
  },
  {
   "cell_type": "code",
   "execution_count": 10,
   "id": "d7f021e5",
   "metadata": {},
   "outputs": [
    {
     "name": "stderr",
     "output_type": "stream",
     "text": [
      "Could not translate t.co card URL on tweet 971252275808260097\n",
      "Could not translate t.co card URL on tweet 971252275808260097\n",
      "Could not translate t.co card URL on tweet 969449611449569280\n",
      "Could not translate t.co card URL on tweet 965121125561831424\n"
     ]
    }
   ],
   "source": [
    "maxTweets = 8000\n",
    "\n",
    "# Creating list to append tweet data to\n",
    "tweets_list1 = []\n",
    "\n",
    "# Using TwitterSearchScraper to scrape data and append tweets to list\n",
    "for i,tweet in enumerate(sntwitter.TwitterSearchScraper('from:ImranKhanPTI').get_items()):\n",
    "    if i>maxTweets:\n",
    "        break\n",
    "    tweets_list1.append([tweet.date, tweet.id, tweet.content, tweet.user.username])"
   ]
  },
  {
   "cell_type": "code",
   "execution_count": 11,
   "id": "736f1675",
   "metadata": {},
   "outputs": [
    {
     "data": {
      "text/html": [
       "<div>\n",
       "<style scoped>\n",
       "    .dataframe tbody tr th:only-of-type {\n",
       "        vertical-align: middle;\n",
       "    }\n",
       "\n",
       "    .dataframe tbody tr th {\n",
       "        vertical-align: top;\n",
       "    }\n",
       "\n",
       "    .dataframe thead th {\n",
       "        text-align: right;\n",
       "    }\n",
       "</style>\n",
       "<table border=\"1\" class=\"dataframe\">\n",
       "  <thead>\n",
       "    <tr style=\"text-align: right;\">\n",
       "      <th></th>\n",
       "      <th>Datetime</th>\n",
       "      <th>Tweet Id</th>\n",
       "      <th>Text</th>\n",
       "      <th>Username</th>\n",
       "    </tr>\n",
       "  </thead>\n",
       "  <tbody>\n",
       "    <tr>\n",
       "      <th>0</th>\n",
       "      <td>2022-07-08 06:06:44+00:00</td>\n",
       "      <td>1545288254005645312</td>\n",
       "      <td>مجھے ڈر ہے کہ پی ڈی ایم جماعتیں، جنہوں نے برسو...</td>\n",
       "      <td>ImranKhanPTI</td>\n",
       "    </tr>\n",
       "    <tr>\n",
       "      <th>1</th>\n",
       "      <td>2022-07-08 06:06:43+00:00</td>\n",
       "      <td>1545288251287736321</td>\n",
       "      <td>پتن کی اس رپورٹ نےایک مرتبہ پھرثابت کردیاکہ شر...</td>\n",
       "      <td>ImranKhanPTI</td>\n",
       "    </tr>\n",
       "    <tr>\n",
       "      <th>2</th>\n",
       "      <td>2022-07-08 05:43:39+00:00</td>\n",
       "      <td>1545282444991102976</td>\n",
       "      <td>I am afraid neither the PDM parties, who have ...</td>\n",
       "      <td>ImranKhanPTI</td>\n",
       "    </tr>\n",
       "    <tr>\n",
       "      <th>3</th>\n",
       "      <td>2022-07-08 05:43:38+00:00</td>\n",
       "      <td>1545282441971175425</td>\n",
       "      <td>This Pattan Report once again makes it obvious...</td>\n",
       "      <td>ImranKhanPTI</td>\n",
       "    </tr>\n",
       "    <tr>\n",
       "      <th>4</th>\n",
       "      <td>2022-07-06 17:55:38+00:00</td>\n",
       "      <td>1544741877815058433</td>\n",
       "      <td>عوام تبدیلئ حکومت کی امریکی سازش کے ذریعے لائی...</td>\n",
       "      <td>ImranKhanPTI</td>\n",
       "    </tr>\n",
       "  </tbody>\n",
       "</table>\n",
       "</div>"
      ],
      "text/plain": [
       "                   Datetime             Tweet Id  \\\n",
       "0 2022-07-08 06:06:44+00:00  1545288254005645312   \n",
       "1 2022-07-08 06:06:43+00:00  1545288251287736321   \n",
       "2 2022-07-08 05:43:39+00:00  1545282444991102976   \n",
       "3 2022-07-08 05:43:38+00:00  1545282441971175425   \n",
       "4 2022-07-06 17:55:38+00:00  1544741877815058433   \n",
       "\n",
       "                                                Text      Username  \n",
       "0  مجھے ڈر ہے کہ پی ڈی ایم جماعتیں، جنہوں نے برسو...  ImranKhanPTI  \n",
       "1  پتن کی اس رپورٹ نےایک مرتبہ پھرثابت کردیاکہ شر...  ImranKhanPTI  \n",
       "2  I am afraid neither the PDM parties, who have ...  ImranKhanPTI  \n",
       "3  This Pattan Report once again makes it obvious...  ImranKhanPTI  \n",
       "4  عوام تبدیلئ حکومت کی امریکی سازش کے ذریعے لائی...  ImranKhanPTI  "
      ]
     },
     "execution_count": 11,
     "metadata": {},
     "output_type": "execute_result"
    }
   ],
   "source": [
    "# Creating a dataframe from the tweets list above\n",
    "tweets_df1 = pd.DataFrame(tweets_list1, columns=['Datetime', 'Tweet Id', 'Text', 'Username'])\n",
    "\n",
    "# Display first 5 entries from dataframe\n",
    "tweets_df1.head()"
   ]
  },
  {
   "cell_type": "code",
   "execution_count": 7,
   "id": "8d855b74",
   "metadata": {},
   "outputs": [],
   "source": [
    "# Export dataframe into a CSV\n",
    "tweets_df1.to_csv('ImranKhan-tweets.csv', sep=',', index=False)"
   ]
  }
 ],
 "metadata": {
  "kernelspec": {
   "display_name": "Python 3",
   "language": "python",
   "name": "python3"
  },
  "language_info": {
   "codemirror_mode": {
    "name": "ipython",
    "version": 3
   },
   "file_extension": ".py",
   "mimetype": "text/x-python",
   "name": "python",
   "nbconvert_exporter": "python",
   "pygments_lexer": "ipython3",
   "version": "3.8.8"
  }
 },
 "nbformat": 4,
 "nbformat_minor": 5
}
